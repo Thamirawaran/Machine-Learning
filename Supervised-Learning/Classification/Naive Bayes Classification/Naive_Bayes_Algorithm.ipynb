{
  "nbformat": 4,
  "nbformat_minor": 0,
  "metadata": {
    "colab": {
      "provenance": []
    },
    "kernelspec": {
      "name": "python3",
      "display_name": "Python 3"
    },
    "language_info": {
      "name": "python"
    }
  },
  "cells": [
    {
      "cell_type": "markdown",
      "source": [
        "Import required Libraries"
      ],
      "metadata": {
        "id": "g7luMsOmlvl2"
      }
    },
    {
      "cell_type": "code",
      "source": [
        "from sklearn import datasets\n",
        "from sklearn.metrics import confusion_matrix\n",
        "from sklearn.naive_bayes import GaussianNB\n",
        "from sklearn.model_selection import train_test_split"
      ],
      "metadata": {
        "id": "jdvXPVi7kNqu"
      },
      "execution_count": 7,
      "outputs": []
    },
    {
      "cell_type": "markdown",
      "source": [
        "Split data set for training, testing"
      ],
      "metadata": {
        "id": "6B6bJACRlzao"
      }
    },
    {
      "cell_type": "code",
      "source": [
        "iris_data = datasets.load_iris()\n",
        "X = iris_data.data\n",
        "Y = iris_data.target\n",
        "X_train, X_test, Y_train, Y_test = train_test_split(X,Y, test_size=0.2)"
      ],
      "metadata": {
        "id": "BTJTS_3CkrgG"
      },
      "execution_count": 8,
      "outputs": []
    },
    {
      "cell_type": "markdown",
      "source": [
        "Train model"
      ],
      "metadata": {
        "id": "AGS8wUbpl7UQ"
      }
    },
    {
      "cell_type": "code",
      "source": [
        "gnb = GaussianNB()\n",
        "Trained_model = gnb.fit(X_train, Y_train)"
      ],
      "metadata": {
        "id": "m66DzGjpmDT8"
      },
      "execution_count": 9,
      "outputs": []
    },
    {
      "cell_type": "markdown",
      "source": [
        "Prediction"
      ],
      "metadata": {
        "id": "5z31cBTGl86b"
      }
    },
    {
      "cell_type": "code",
      "source": [
        "Prediction = gnb.predict(X_test)\n",
        "print(confusion_matrix(Y_test,Prediction))"
      ],
      "metadata": {
        "colab": {
          "base_uri": "https://localhost:8080/"
        },
        "id": "e_QDCHRglad6",
        "outputId": "5028da8f-f3eb-42bb-ae9a-012c366a2276"
      },
      "execution_count": 10,
      "outputs": [
        {
          "output_type": "stream",
          "name": "stdout",
          "text": [
            "[[ 9  0  0]\n",
            " [ 0  8  0]\n",
            " [ 0  2 11]]\n"
          ]
        }
      ]
    }
  ]
}